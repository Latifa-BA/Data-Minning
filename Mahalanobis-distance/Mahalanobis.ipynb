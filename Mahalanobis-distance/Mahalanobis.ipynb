{
 "cells": [
  {
   "cell_type": "markdown",
   "id": "1631dccc",
   "metadata": {},
   "source": [
    "<h1> <span style=\"color: #2471A3  \">Recherche sur la distance de mahalanobis</span> </h1>\n",
    "<h3> Latifa Ben Amor 3DNI1"
   ]
  },
  {
   "cell_type": "markdown",
   "id": "105aafdd",
   "metadata": {},
   "source": [
    "<h3>\n",
    "<span style=\"color: #C0392B \"> I. Introduction :   </span>\n",
    "    </h3 "
   ]
  },
  {
   "cell_type": "markdown",
   "id": "5ef0c798",
   "metadata": {},
   "source": [
    "La distance de Mahalanobis est une métrique de distance multivariée efficace qui mesure la distance entre un point (vecteur) et une distribution.\n",
    "Il a d'excellentes applications dans la détection d'anomalies multivariées, la classification sur des ensembles de données très déséquilibrés et la classification à une classe et des cas d'utilisation plus inexploités."
   ]
  },
  {
   "cell_type": "markdown",
   "id": "47cd69c4",
   "metadata": {},
   "source": [
    "<h3>\n",
    "<span style=\"color: #C0392B  \">II. Définition de la distance de mahalanobis :  </span>\n",
    "    </h3 "
   ]
  },
  {
   "cell_type": "markdown",
   "id": "aabcbdf1",
   "metadata": {},
   "source": [
    "La distance de Mahalonobis est la distance entre un point et une distribution. Et non entre deux points distincts. C'est effectivement un équivalent multivarié de la distance euclidienne.\n",
    "\n",
    "Il a été introduit par le professeur P. C. Mahalanobis en 1936 et a été utilisé dans diverses applications statistiques depuis. Cependant, il n'est pas si bien connu ou utilisé dans la pratique de l'apprentissage automatique."
   ]
  },
  {
   "cell_type": "markdown",
   "id": "51ea007a",
   "metadata": {},
   "source": [
    "<h5> => Donc, d'un point de vue informatique, en quoi la distance de Mahalanobis est-elle différente de la distance euclidienne ?</h5>"
   ]
  },
  {
   "cell_type": "markdown",
   "id": "df10bcc0",
   "metadata": {},
   "source": [
    "<h5> 1. It transforms the columns into uncorrelated variables</h5>\n",
    "<h5> 2. Scale the columns to make their variance equal to 1</h5>\n",
    "<h5> 3. Finally, it calculates the Euclidean distance.</h5>"
   ]
  },
  {
   "cell_type": "markdown",
   "id": "dd961bc5",
   "metadata": {},
   "source": [
    "<h3>\n",
    "<span style=\"color: #C0392B \">III. Les mathématiques et l'intuition derrière Mahalanobis Distance : </span>\n",
    "    </h3 "
   ]
  },
  {
   "cell_type": "markdown",
   "id": "c28b7970",
   "metadata": {},
   "source": [
    "#### La formule pour calculer la distance de Mahalanobis est la suivante :"
   ]
  },
  {
   "attachments": {
    "Capture%20d%E2%80%99%C3%A9cran%20du%202021-11-15%2012-53-10.png": {
     "image/png": "[encoded data removed]"
    }
   },
   "cell_type": "markdown",
   "id": "f11cb36d",
   "metadata": {},
   "source": [
    "![Capture%20d%E2%80%99%C3%A9cran%20du%202021-11-15%2012-53-10.png](attachment:Capture%20d%E2%80%99%C3%A9cran%20du%202021-11-15%2012-53-10.png)"
   ]
  },
  {
   "cell_type": "markdown",
   "id": "66da404f",
   "metadata": {},
   "source": [
    "<h5>\n",
    "<span style=\"color: #1F618D \">Prenons le (x – m)^T . C^(-1) terme</span>\n",
    "    </h5>\n",
    "<h5>\n",
    "<span style=\"color: #1F618D \">(x – m) est essentiellement la distance du vecteur à la moyenne. Nous divisons ensuite cela par la matrice de covariance (ou multiplions par l'inverse de la matrice de covariance).</span>\n",
    "    </h5>\n",
    "\n",
    "<h5>\n",
    "<span style=\"color: #1F618D \">Si vous y réfléchissez, il s'agit essentiellement d'un équivalent multivarié de la normalisation régulière (z = (x – mu)/sigma). C'est-à-dire z = (vecteur x) – (vecteur moyen) / (matrice de covariance).</span>\n",
    "    </h5>\n",
    "\n",
    "#### Alors, quel est l'effet de la division par la covariance?\n",
    "\n",
    "<h7>Si les variables de votre ensemble de données sont fortement corrélées, la covariance sera élevée. La division par une grande covariance réduira efficacement la distance.</h7>\n",
    "\n",
    "<h7>De même, si les X ne sont pas corrélés, alors la covariance n'est pas élevée et la distance n'est pas beaucoup réduite.</h7>\n",
    "\n",
    "<h7>Donc efficacement, il aborde à la fois les problèmes d'échelle ainsi que la corrélation des variables dont nous avons parlé dans l'introduction.</h7>"
   ]
  },
  {
   "cell_type": "markdown",
   "id": "d7d12101",
   "metadata": {},
   "source": [
    "<h3>\n",
    "<span style=\"color: #C0392B \">IIV. Calcule de la distance de Mahalanobis en Python : </span>\n",
    "    </h3 "
   ]
  },
  {
   "cell_type": "code",
   "execution_count": 3,
   "id": "bb32b6bf",
   "metadata": {},
   "outputs": [
    {
     "data": {
      "text/html": [
       "<div>\n",
       "<style scoped>\n",
       "    .dataframe tbody tr th:only-of-type {\n",
       "        vertical-align: middle;\n",
       "    }\n",
       "\n",
       "    .dataframe tbody tr th {\n",
       "        vertical-align: top;\n",
       "    }\n",
       "\n",
       "    .dataframe thead th {\n",
       "        text-align: right;\n",
       "    }\n",
       "</style>\n",
       "<table border=\"1\" class=\"dataframe\">\n",
       "  <thead>\n",
       "    <tr style=\"text-align: right;\">\n",
       "      <th></th>\n",
       "      <th>carat</th>\n",
       "      <th>depth</th>\n",
       "      <th>price</th>\n",
       "    </tr>\n",
       "  </thead>\n",
       "  <tbody>\n",
       "    <tr>\n",
       "      <th>0</th>\n",
       "      <td>0.23</td>\n",
       "      <td>61.5</td>\n",
       "      <td>326</td>\n",
       "    </tr>\n",
       "    <tr>\n",
       "      <th>1</th>\n",
       "      <td>0.21</td>\n",
       "      <td>59.8</td>\n",
       "      <td>326</td>\n",
       "    </tr>\n",
       "    <tr>\n",
       "      <th>2</th>\n",
       "      <td>0.23</td>\n",
       "      <td>56.9</td>\n",
       "      <td>327</td>\n",
       "    </tr>\n",
       "    <tr>\n",
       "      <th>3</th>\n",
       "      <td>0.29</td>\n",
       "      <td>62.4</td>\n",
       "      <td>334</td>\n",
       "    </tr>\n",
       "    <tr>\n",
       "      <th>4</th>\n",
       "      <td>0.31</td>\n",
       "      <td>63.3</td>\n",
       "      <td>335</td>\n",
       "    </tr>\n",
       "  </tbody>\n",
       "</table>\n",
       "</div>"
      ],
      "text/plain": [
       "   carat  depth  price\n",
       "0   0.23   61.5    326\n",
       "1   0.21   59.8    326\n",
       "2   0.23   56.9    327\n",
       "3   0.29   62.4    334\n",
       "4   0.31   63.3    335"
      ]
     },
     "execution_count": 3,
     "metadata": {},
     "output_type": "execute_result"
    }
   ],
   "source": [
    "import pandas as pd\n",
    "import scipy as sp\n",
    "import numpy as np\n",
    "\n",
    "filepath = 'https://raw.githubusercontent.com/selva86/datasets/master/diamonds.csv'\n",
    "df = pd.read_csv(filepath).iloc[:, [0,4,6]]\n",
    "df.head()"
   ]
  },
  {
   "cell_type": "markdown",
   "id": "17a33bfe",
   "metadata": {},
   "source": [
    "<h3>\n",
    "<span style=\"color: #117A65 \">La fonction pour calculer la distance de Mahalanobis</span>\n",
    "    </h3>"
   ]
  },
  {
   "cell_type": "code",
   "execution_count": 5,
   "id": "c405fa0f",
   "metadata": {},
   "outputs": [
    {
     "data": {
      "text/html": [
       "<div>\n",
       "<style scoped>\n",
       "    .dataframe tbody tr th:only-of-type {\n",
       "        vertical-align: middle;\n",
       "    }\n",
       "\n",
       "    .dataframe tbody tr th {\n",
       "        vertical-align: top;\n",
       "    }\n",
       "\n",
       "    .dataframe thead th {\n",
       "        text-align: right;\n",
       "    }\n",
       "</style>\n",
       "<table border=\"1\" class=\"dataframe\">\n",
       "  <thead>\n",
       "    <tr style=\"text-align: right;\">\n",
       "      <th></th>\n",
       "      <th>carat</th>\n",
       "      <th>depth</th>\n",
       "      <th>price</th>\n",
       "      <th>mahala</th>\n",
       "    </tr>\n",
       "  </thead>\n",
       "  <tbody>\n",
       "    <tr>\n",
       "      <th>0</th>\n",
       "      <td>0.23</td>\n",
       "      <td>61.5</td>\n",
       "      <td>326</td>\n",
       "      <td>1.709860</td>\n",
       "    </tr>\n",
       "    <tr>\n",
       "      <th>1</th>\n",
       "      <td>0.21</td>\n",
       "      <td>59.8</td>\n",
       "      <td>326</td>\n",
       "      <td>3.540097</td>\n",
       "    </tr>\n",
       "    <tr>\n",
       "      <th>2</th>\n",
       "      <td>0.23</td>\n",
       "      <td>56.9</td>\n",
       "      <td>327</td>\n",
       "      <td>12.715021</td>\n",
       "    </tr>\n",
       "    <tr>\n",
       "      <th>3</th>\n",
       "      <td>0.29</td>\n",
       "      <td>62.4</td>\n",
       "      <td>334</td>\n",
       "      <td>1.454469</td>\n",
       "    </tr>\n",
       "    <tr>\n",
       "      <th>4</th>\n",
       "      <td>0.31</td>\n",
       "      <td>63.3</td>\n",
       "      <td>335</td>\n",
       "      <td>2.347239</td>\n",
       "    </tr>\n",
       "  </tbody>\n",
       "</table>\n",
       "</div>"
      ],
      "text/plain": [
       "   carat  depth  price     mahala\n",
       "0   0.23   61.5    326   1.709860\n",
       "1   0.21   59.8    326   3.540097\n",
       "2   0.23   56.9    327  12.715021\n",
       "3   0.29   62.4    334   1.454469\n",
       "4   0.31   63.3    335   2.347239"
      ]
     },
     "execution_count": 5,
     "metadata": {},
     "output_type": "execute_result"
    }
   ],
   "source": [
    "def mahalanobis(x=None, data=None, cov=None):\n",
    "    \"\"\"Calculer la distance de Mahalanobis entre chaque ligne de x et les données\n",
    "    x    : vecteur ou matrice de données avec p colonnes.\n",
    "    data :tableau de la distribution à partir de laquelle la distance de Mahalanobis de chaque observation de x doit être calculée.\n",
    "    cov  : matrice de covariance (p x p) de la distribution. Si Aucun, sera calculé à partir des données.\n",
    "    \"\"\"\n",
    "    x_minus_mu = x - np.mean(data)\n",
    "    if not cov:\n",
    "        cov = np.cov(data.values.T)\n",
    "    inv_covmat = sp.linalg.inv(cov)\n",
    "    left_term = np.dot(x_minus_mu, inv_covmat)\n",
    "    mahal = np.dot(left_term, x_minus_mu.T)\n",
    "    return mahal.diagonal()\n",
    "\n",
    "df_x = df[['carat', 'depth', 'price']].head(500)\n",
    "df_x['mahala'] = mahalanobis(x=df_x, data=df[['carat', 'depth', 'price']])\n",
    "df_x.head()"
   ]
  },
  {
   "cell_type": "markdown",
   "id": "1eedc6df",
   "metadata": {},
   "source": [
    "<h3>\n",
    "<span style=\"color: #C0392B  \">V. les cas d'utilisation de la distance de mahalanobis :</span>\n",
    "    </h3 "
   ]
  },
  {
   "cell_type": "markdown",
   "id": "5bf8d661",
   "metadata": {},
   "source": [
    "<h3>\n",
    "<span style=\"color: #5D6D7E \">Cas d'utilisation 1 : Détection des valeurs aberrantes multivariées à l'aide de la distance de Mahalanobis</span>\n",
    "    </h3 "
   ]
  },
  {
   "cell_type": "markdown",
   "id": "b7a71680",
   "metadata": {},
   "source": [
    "En supposant que la statistique de test suit une distribution du chi carré avec « n » degrés de liberté, la valeur critique à un niveau de signification de 0,01 et 2 degrés de liberté est calculée comme suit :"
   ]
  },
  {
   "cell_type": "code",
   "execution_count": 6,
   "id": "8fe1a207",
   "metadata": {},
   "outputs": [
    {
     "data": {
      "text/plain": [
       "9.21034037197618"
      ]
     },
     "execution_count": 6,
     "metadata": {},
     "output_type": "execute_result"
    }
   ],
   "source": [
    "# Valeurs critiques pour deux degrés de liberté\n",
    "from scipy.stats import chi2\n",
    "chi2.ppf((1-0.01), df=2)"
   ]
  },
  {
   "cell_type": "markdown",
   "id": "c1934eee",
   "metadata": {},
   "source": [
    "<h5>=> Cela signifie qu'une observation peut être considérée comme extrême si sa distance de Mahalanobis dépasse 9,21.</h5>"
   ]
  },
  {
   "cell_type": "markdown",
   "id": "1cc7f727",
   "metadata": {},
   "source": [
    "Avec P valeurs pour déterminer si une observation est extrême ou non :"
   ]
  },
  {
   "cell_type": "code",
   "execution_count": 8,
   "id": "7dd134d7",
   "metadata": {},
   "outputs": [
    {
     "data": {
      "text/html": [
       "<div>\n",
       "<style scoped>\n",
       "    .dataframe tbody tr th:only-of-type {\n",
       "        vertical-align: middle;\n",
       "    }\n",
       "\n",
       "    .dataframe tbody tr th {\n",
       "        vertical-align: top;\n",
       "    }\n",
       "\n",
       "    .dataframe thead th {\n",
       "        text-align: right;\n",
       "    }\n",
       "</style>\n",
       "<table border=\"1\" class=\"dataframe\">\n",
       "  <thead>\n",
       "    <tr style=\"text-align: right;\">\n",
       "      <th></th>\n",
       "      <th>carat</th>\n",
       "      <th>depth</th>\n",
       "      <th>price</th>\n",
       "      <th>mahala</th>\n",
       "      <th>p_value</th>\n",
       "    </tr>\n",
       "  </thead>\n",
       "  <tbody>\n",
       "    <tr>\n",
       "      <th>2</th>\n",
       "      <td>0.23</td>\n",
       "      <td>56.9</td>\n",
       "      <td>327</td>\n",
       "      <td>12.715021</td>\n",
       "      <td>0.001734</td>\n",
       "    </tr>\n",
       "    <tr>\n",
       "      <th>91</th>\n",
       "      <td>0.86</td>\n",
       "      <td>55.1</td>\n",
       "      <td>2757</td>\n",
       "      <td>23.909643</td>\n",
       "      <td>0.000006</td>\n",
       "    </tr>\n",
       "    <tr>\n",
       "      <th>97</th>\n",
       "      <td>0.96</td>\n",
       "      <td>66.3</td>\n",
       "      <td>2759</td>\n",
       "      <td>11.781773</td>\n",
       "      <td>0.002765</td>\n",
       "    </tr>\n",
       "    <tr>\n",
       "      <th>172</th>\n",
       "      <td>1.17</td>\n",
       "      <td>60.2</td>\n",
       "      <td>2774</td>\n",
       "      <td>9.279459</td>\n",
       "      <td>0.009660</td>\n",
       "    </tr>\n",
       "    <tr>\n",
       "      <th>204</th>\n",
       "      <td>0.98</td>\n",
       "      <td>67.9</td>\n",
       "      <td>2777</td>\n",
       "      <td>20.086616</td>\n",
       "      <td>0.000043</td>\n",
       "    </tr>\n",
       "    <tr>\n",
       "      <th>221</th>\n",
       "      <td>0.70</td>\n",
       "      <td>57.2</td>\n",
       "      <td>2782</td>\n",
       "      <td>10.405659</td>\n",
       "      <td>0.005501</td>\n",
       "    </tr>\n",
       "    <tr>\n",
       "      <th>227</th>\n",
       "      <td>0.84</td>\n",
       "      <td>55.1</td>\n",
       "      <td>2782</td>\n",
       "      <td>23.548379</td>\n",
       "      <td>0.000008</td>\n",
       "    </tr>\n",
       "    <tr>\n",
       "      <th>255</th>\n",
       "      <td>1.05</td>\n",
       "      <td>65.8</td>\n",
       "      <td>2789</td>\n",
       "      <td>11.237146</td>\n",
       "      <td>0.003630</td>\n",
       "    </tr>\n",
       "    <tr>\n",
       "      <th>284</th>\n",
       "      <td>1.00</td>\n",
       "      <td>58.2</td>\n",
       "      <td>2795</td>\n",
       "      <td>10.349019</td>\n",
       "      <td>0.005659</td>\n",
       "    </tr>\n",
       "    <tr>\n",
       "      <th>298</th>\n",
       "      <td>1.01</td>\n",
       "      <td>67.4</td>\n",
       "      <td>2797</td>\n",
       "      <td>17.716144</td>\n",
       "      <td>0.000142</td>\n",
       "    </tr>\n",
       "  </tbody>\n",
       "</table>\n",
       "</div>"
      ],
      "text/plain": [
       "     carat  depth  price     mahala   p_value\n",
       "2     0.23   56.9    327  12.715021  0.001734\n",
       "91    0.86   55.1   2757  23.909643  0.000006\n",
       "97    0.96   66.3   2759  11.781773  0.002765\n",
       "172   1.17   60.2   2774   9.279459  0.009660\n",
       "204   0.98   67.9   2777  20.086616  0.000043\n",
       "221   0.70   57.2   2782  10.405659  0.005501\n",
       "227   0.84   55.1   2782  23.548379  0.000008\n",
       "255   1.05   65.8   2789  11.237146  0.003630\n",
       "284   1.00   58.2   2795  10.349019  0.005659\n",
       "298   1.01   67.4   2797  17.716144  0.000142"
      ]
     },
     "execution_count": 8,
     "metadata": {},
     "output_type": "execute_result"
    }
   ],
   "source": [
    "# Calculer les P-Valeurs\n",
    "df_x['p_value'] = 1 - chi2.cdf(df_x['mahala'], 2)\n",
    "\n",
    "# Valeurs extrêmes avec un niveau de signification de 0,01\n",
    "df_x.loc[df_x.p_value < 0.01].head(10)"
   ]
  },
  {
   "cell_type": "markdown",
   "id": "fa53036b",
   "metadata": {},
   "source": [
    "<h3>\n",
    "<span style=\"color: #5D6D7E \">Cas d'utilisation 2 : Distance de Mahalanobis pour les problèmes de classification</span>\n",
    "    </h3 "
   ]
  },
  {
   "cell_type": "markdown",
   "id": "315a6d48",
   "metadata": {},
   "source": [
    "La distance de Mahalanobis peut être utilisée pour des problèmes de classification. Une implémentation naïve d'un classificateur Mahalanobis est codée ci-dessous. L'intuition est qu'une observation se voit attribuer la classe dont elle est la plus proche en fonction de la distance de Mahalanobis.\n",
    "\n",
    "Voyons un exemple d'implémentation sur le jeu de données BreastCancer, où l'objectif est de déterminer si une tumeur est bénigne ou maligne."
   ]
  },
  {
   "cell_type": "code",
   "execution_count": 10,
   "id": "1a65c7f5",
   "metadata": {},
   "outputs": [
    {
     "data": {
      "text/html": [
       "<div>\n",
       "<style scoped>\n",
       "    .dataframe tbody tr th:only-of-type {\n",
       "        vertical-align: middle;\n",
       "    }\n",
       "\n",
       "    .dataframe tbody tr th {\n",
       "        vertical-align: top;\n",
       "    }\n",
       "\n",
       "    .dataframe thead th {\n",
       "        text-align: right;\n",
       "    }\n",
       "</style>\n",
       "<table border=\"1\" class=\"dataframe\">\n",
       "  <thead>\n",
       "    <tr style=\"text-align: right;\">\n",
       "      <th></th>\n",
       "      <th>Cl.thickness</th>\n",
       "      <th>Cell.size</th>\n",
       "      <th>Marg.adhesion</th>\n",
       "      <th>Epith.c.size</th>\n",
       "      <th>Bare.nuclei</th>\n",
       "      <th>Bl.cromatin</th>\n",
       "      <th>Normal.nucleoli</th>\n",
       "      <th>Mitoses</th>\n",
       "      <th>Class</th>\n",
       "    </tr>\n",
       "  </thead>\n",
       "  <tbody>\n",
       "    <tr>\n",
       "      <th>0</th>\n",
       "      <td>5</td>\n",
       "      <td>1</td>\n",
       "      <td>1</td>\n",
       "      <td>2</td>\n",
       "      <td>1.0</td>\n",
       "      <td>3</td>\n",
       "      <td>1</td>\n",
       "      <td>1</td>\n",
       "      <td>0</td>\n",
       "    </tr>\n",
       "    <tr>\n",
       "      <th>1</th>\n",
       "      <td>5</td>\n",
       "      <td>4</td>\n",
       "      <td>5</td>\n",
       "      <td>7</td>\n",
       "      <td>10.0</td>\n",
       "      <td>3</td>\n",
       "      <td>2</td>\n",
       "      <td>1</td>\n",
       "      <td>0</td>\n",
       "    </tr>\n",
       "    <tr>\n",
       "      <th>2</th>\n",
       "      <td>3</td>\n",
       "      <td>1</td>\n",
       "      <td>1</td>\n",
       "      <td>2</td>\n",
       "      <td>2.0</td>\n",
       "      <td>3</td>\n",
       "      <td>1</td>\n",
       "      <td>1</td>\n",
       "      <td>0</td>\n",
       "    </tr>\n",
       "    <tr>\n",
       "      <th>3</th>\n",
       "      <td>6</td>\n",
       "      <td>8</td>\n",
       "      <td>1</td>\n",
       "      <td>3</td>\n",
       "      <td>4.0</td>\n",
       "      <td>3</td>\n",
       "      <td>7</td>\n",
       "      <td>1</td>\n",
       "      <td>0</td>\n",
       "    </tr>\n",
       "    <tr>\n",
       "      <th>4</th>\n",
       "      <td>4</td>\n",
       "      <td>1</td>\n",
       "      <td>3</td>\n",
       "      <td>2</td>\n",
       "      <td>1.0</td>\n",
       "      <td>3</td>\n",
       "      <td>1</td>\n",
       "      <td>1</td>\n",
       "      <td>0</td>\n",
       "    </tr>\n",
       "  </tbody>\n",
       "</table>\n",
       "</div>"
      ],
      "text/plain": [
       "   Cl.thickness  Cell.size  Marg.adhesion  Epith.c.size  Bare.nuclei  \\\n",
       "0             5          1              1             2          1.0   \n",
       "1             5          4              5             7         10.0   \n",
       "2             3          1              1             2          2.0   \n",
       "3             6          8              1             3          4.0   \n",
       "4             4          1              3             2          1.0   \n",
       "\n",
       "   Bl.cromatin  Normal.nucleoli  Mitoses  Class  \n",
       "0            3                1        1      0  \n",
       "1            3                2        1      0  \n",
       "2            3                1        1      0  \n",
       "3            3                7        1      0  \n",
       "4            3                1        1      0  "
      ]
     },
     "execution_count": 10,
     "metadata": {},
     "output_type": "execute_result"
    }
   ],
   "source": [
    "df = pd.read_csv('https://raw.githubusercontent.com/selva86/datasets/master/BreastCancer.csv', \n",
    "                 usecols=['Cl.thickness', 'Cell.size', 'Marg.adhesion', \n",
    "                          'Epith.c.size', 'Bare.nuclei', 'Bl.cromatin', 'Normal.nucleoli', \n",
    "                          'Mitoses', 'Class'])\n",
    "\n",
    "df.dropna(inplace=True)  \n",
    "df.head()"
   ]
  },
  {
   "cell_type": "markdown",
   "id": "2ac14387",
   "metadata": {},
   "source": [
    "Séparons l'ensemble de données dans un rapport 70:30 en tant qu'entraînement et test. Et l'ensemble de données d'apprentissage est divisé en groupes homogènes de classes 'pos'(1) et 'neg'(0).\n",
    "Pour prédire la classe de l'ensemble de données de test, nous mesurons les distances de Mahalanobis entre une observation donnée (ligne) et les ensembles de données positifs (xtrain_pos) et négatifs (xtrain_neg).\n",
    "\n",
    "Ensuite, cette observation est attribuée à la classe en fonction du groupe dont elle est la plus proche."
   ]
  },
  {
   "cell_type": "code",
   "execution_count": 12,
   "id": "9f1bc4f1",
   "metadata": {},
   "outputs": [],
   "source": [
    "from sklearn.model_selection import train_test_split\n",
    "xtrain, xtest, ytrain, ytest = train_test_split(df.drop('Class', axis=1), df['Class'], test_size=.3, random_state=100)\n",
    "\n",
    "# Diviser les données d'entraînement en positive et negative\n",
    "xtrain_pos = xtrain.loc[ytrain == 1, :]\n",
    "xtrain_neg = xtrain.loc[ytrain == 0, :]"
   ]
  },
  {
   "cell_type": "markdown",
   "id": "ae8f52ba",
   "metadata": {},
   "source": [
    "Construisons le MahalanobiBinaryClassifier. Pour ce faire, on définie les méthodes predict_proba() et predict()."
   ]
  },
  {
   "cell_type": "code",
   "execution_count": 13,
   "id": "1528cb62",
   "metadata": {},
   "outputs": [
    {
     "name": "stdout",
     "output_type": "stream",
     "text": [
      "   pred  true\n",
      "0     0     0\n",
      "1     1     1\n",
      "2     0     0\n",
      "3     0     0\n",
      "4     0     0\n"
     ]
    }
   ],
   "source": [
    "class MahalanobisBinaryClassifier():\n",
    "    def __init__(self, xtrain, ytrain):\n",
    "        self.xtrain_pos = xtrain.loc[ytrain == 1, :]\n",
    "        self.xtrain_neg = xtrain.loc[ytrain == 0, :]\n",
    "\n",
    "    def predict_proba(self, xtest):\n",
    "        pos_neg_dists = [(p,n) for p, n in zip(mahalanobis(xtest, self.xtrain_pos), mahalanobis(xtest, self.xtrain_neg))]\n",
    "        return np.array([(1-n/(p+n), 1-p/(p+n)) for p,n in pos_neg_dists])\n",
    "\n",
    "    def predict(self, xtest):\n",
    "        return np.array([np.argmax(row) for row in self.predict_proba(xtest)])\n",
    "\n",
    "\n",
    "clf = MahalanobisBinaryClassifier(xtrain, ytrain)        \n",
    "pred_probs = clf.predict_proba(xtest)\n",
    "pred_class = clf.predict(xtest)\n",
    "\n",
    "# Pred and Truth\n",
    "pred_actuals = pd.DataFrame([(pred, act) for pred, act in zip(pred_class, ytest)], columns=['pred', 'true'])\n",
    "print(pred_actuals[:5])"
   ]
  },
  {
   "cell_type": "markdown",
   "id": "5750d0ad",
   "metadata": {},
   "source": [
    "<h4>classification de l'ensemble de données de test :</h4>"
   ]
  },
  {
   "cell_type": "code",
   "execution_count": 14,
   "id": "b5263ae7",
   "metadata": {},
   "outputs": [
    {
     "name": "stdout",
     "output_type": "stream",
     "text": [
      "AUROC:  0.990974358974359\n",
      "\n",
      "Confusion Matrix: \n",
      " [[113  17]\n",
      " [  0  75]]\n",
      "\n",
      "Accuracy Score:  0.9170731707317074\n",
      "\n",
      "Classification Report: \n",
      "               precision    recall  f1-score   support\n",
      "\n",
      "           0       1.00      0.87      0.93       130\n",
      "           1       0.82      1.00      0.90        75\n",
      "\n",
      "    accuracy                           0.92       205\n",
      "   macro avg       0.91      0.93      0.91       205\n",
      "weighted avg       0.93      0.92      0.92       205\n",
      "\n"
     ]
    }
   ],
   "source": [
    "from sklearn.metrics import classification_report, accuracy_score, roc_auc_score, confusion_matrix\n",
    "truth = pred_actuals.loc[:, 'true']\n",
    "pred = pred_actuals.loc[:, 'pred']\n",
    "scores = np.array(pred_probs)[:, 1]\n",
    "print('AUROC: ', roc_auc_score(truth, scores))\n",
    "print('\\nConfusion Matrix: \\n', confusion_matrix(truth, pred))\n",
    "print('\\nAccuracy Score: ', accuracy_score(truth, pred))\n",
    "print('\\nClassification Report: \\n', classification_report(truth, pred))"
   ]
  },
  {
   "cell_type": "markdown",
   "id": "0ac043c3",
   "metadata": {},
   "source": [
    "<h3>\n",
    "<span style=\"color: #5D6D7E \">Cas d'utilisation 3 : Classification à une classe</span>\n",
    "    </h3 "
   ]
  },
  {
   "cell_type": "markdown",
   "id": "643441ba",
   "metadata": {},
   "source": [
    "La classification à une classe est un type d'algorithme dans lequel l'ensemble de données d'apprentissage contient des observations appartenant à une seule classe.\n",
    "\n",
    "Avec seulement cette information connue, l'objectif est de déterminer si une observation donnée dans un nouvel ensemble de données (ou de test) appartient à cette classe."
   ]
  },
  {
   "cell_type": "markdown",
   "id": "ad57559c",
   "metadata": {},
   "source": [
    "<h5>Essayons ceci sur l'ensemble de données BreastCancer, mais cette fois, nous ne considérerons que les observations malignes (colonne de classe=1) dans les données d'entraînement.</h5>"
   ]
  },
  {
   "cell_type": "code",
   "execution_count": 15,
   "id": "b8ee4fdf",
   "metadata": {},
   "outputs": [],
   "source": [
    "df = pd.read_csv('https://raw.githubusercontent.com/selva86/datasets/master/BreastCancer.csv', \n",
    "                 usecols=['Cl.thickness', 'Cell.size', 'Marg.adhesion', \n",
    "                          'Epith.c.size', 'Bare.nuclei', 'Bl.cromatin', 'Normal.nucleoli', \n",
    "                          'Mitoses', 'Class'])\n",
    "\n",
    "df.dropna(inplace=True)"
   ]
  },
  {
   "cell_type": "markdown",
   "id": "a1571c93",
   "metadata": {},
   "source": [
    "<h5>Diviser 50 % de l'ensemble de données en entraînement et test. Seuls les 1 sont conservés dans les données d'entraînement.</h5>"
   ]
  },
  {
   "cell_type": "code",
   "execution_count": 16,
   "id": "4caf5c68",
   "metadata": {},
   "outputs": [],
   "source": [
    "from sklearn.model_selection import train_test_split\n",
    "xtrain, xtest, ytrain, ytest = train_test_split(df.drop('Class', axis=1), df['Class'], test_size=.5, random_state=100)\n",
    "\n",
    "# Split the training data as pos and neg\n",
    "xtrain_pos = xtrain.loc[ytrain == 1, :]"
   ]
  },
  {
   "cell_type": "markdown",
   "id": "168b6cd2",
   "metadata": {},
   "source": [
    "on construit le MahalanobisOneClassClassifier eton obtient la distance mahalanobis de chaque point de données en x à partir de l'ensemble d'apprentissage (xtrain_pos)."
   ]
  },
  {
   "cell_type": "code",
   "execution_count": 17,
   "id": "d721e8a6",
   "metadata": {},
   "outputs": [
    {
     "name": "stdout",
     "output_type": "stream",
     "text": [
      "Critical value is:  14.067140449340169\n",
      "       mahal  true_class\n",
      "0  13.104716           0\n",
      "1  14.408570           1\n",
      "2  14.932236           0\n",
      "3  14.588622           0\n",
      "4  15.471064           0\n"
     ]
    }
   ],
   "source": [
    "class MahalanobisOneclassClassifier():\n",
    "    def __init__(self, xtrain, significance_level=0.01):\n",
    "        self.xtrain = xtrain\n",
    "        self.critical_value = chi2.ppf((1-significance_level), df=xtrain.shape[1]-1)\n",
    "        print('Critical value is: ', self.critical_value)\n",
    "\n",
    "    def predict_proba(self, xtest):\n",
    "        mahalanobis_dist = mahalanobis(xtest, self.xtrain)\n",
    "        self.pvalues = 1 - chi2.cdf(mahalanobis_dist, 2)\n",
    "        return mahalanobis_dist\n",
    "\n",
    "    def predict(self, xtest):\n",
    "        return np.array([int(i) for i in self.predict_proba(xtest) > self.critical_value])\n",
    "\n",
    "clf = MahalanobisOneclassClassifier(xtrain_pos, significance_level=0.05)\n",
    "mahalanobis_dist = clf.predict_proba(xtest)\n",
    "\n",
    "# Pred and Truth\n",
    "mdist_actuals = pd.DataFrame([(m, act) for m, act in zip(mahalanobis_dist, ytest)], columns=['mahal', 'true_class'])\n",
    "print(mdist_actuals[:5])   "
   ]
  },
  {
   "cell_type": "markdown",
   "id": "3725b235",
   "metadata": {},
   "source": [
    "nous avons la distance de Mahalanobis et la classe réelle de chaque observation.\n",
    "\n",
    "on attendant que ces observations avec une faible distance de Mahalanobis soient de 1.\n",
    "\n",
    "Donc, on fait le trie des mdist_actuals par distance de Mahalanobis et le quantile coupe les lignes en 10 groupes de taille égale. Les observations dans les quantiles supérieurs devraient avoir plus de 1 par rapport à celles du bas."
   ]
  },
  {
   "cell_type": "code",
   "execution_count": 18,
   "id": "dae0edd0",
   "metadata": {},
   "outputs": [
    {
     "name": "stdout",
     "output_type": "stream",
     "text": [
      "          avg_mahaldist  sum_of_trueclass\n",
      "quantile                                 \n",
      "1              3.765496                33\n",
      "2              6.511026                32\n",
      "3              9.272944                30\n",
      "4             12.209504                20\n",
      "5             14.455050                 4\n",
      "6             15.684493                 4\n",
      "7             17.368633                 3\n",
      "8             18.840714                 1\n",
      "9             21.533159                 2\n",
      "10            23.524055                 1\n"
     ]
    }
   ],
   "source": [
    "# quantile coupé en 10 morceaux\n",
    "mdist_actuals['quantile'] = pd.qcut(mdist_actuals['mahal'], \n",
    "                                    q=[0, .10, .20, .3, .4, .5, .6, .7, .8, .9, 1], \n",
    "                                    labels=[1, 2, 3, 4, 5, 6, 7, 8, 9, 10])\n",
    "\n",
    "# trier par distance mahalanobis\n",
    "mdist_actuals.sort_values('mahal', inplace=True)\n",
    "perc_truths = mdist_actuals.groupby('quantile').agg({'mahal': np.mean, 'true_class': np.sum}).rename(columns={'mahal':'avg_mahaldist', 'true_class':'sum_of_trueclass'})\n",
    "print(perc_truths)"
   ]
  },
  {
   "cell_type": "markdown",
   "id": "f9444251",
   "metadata": {},
   "source": [
    "près de 90 % des 1 (cas malins) se situent dans les premiers 40 % de la distance de Mahalanobis. Incidemment, tous sont inférieurs à la valeur critique pf 14,05. Alors, prenons la valeur critique comme seuil et marquons ces observations avec une distance de Mahalanobis inférieure au seuil comme positives."
   ]
  },
  {
   "cell_type": "code",
   "execution_count": 19,
   "id": "968c16f4",
   "metadata": {},
   "outputs": [
    {
     "name": "stdout",
     "output_type": "stream",
     "text": [
      "\n",
      "Confusion Matrix: \n",
      " [[183  29]\n",
      " [ 15 115]]\n",
      "\n",
      "Accuracy Score:  0.8713450292397661\n",
      "\n",
      "Classification Report: \n",
      "               precision    recall  f1-score   support\n",
      "\n",
      "           0       0.92      0.86      0.89       212\n",
      "           1       0.80      0.88      0.84       130\n",
      "\n",
      "    accuracy                           0.87       342\n",
      "   macro avg       0.86      0.87      0.87       342\n",
      "weighted avg       0.88      0.87      0.87       342\n",
      "\n"
     ]
    }
   ],
   "source": [
    "from sklearn.metrics import classification_report, accuracy_score, roc_auc_score, confusion_matrix\n",
    "\n",
    "# Positive if mahalanobis \n",
    "pred_actuals = pd.DataFrame([(int(p), y) for y, p in zip(ytest, clf.predict_proba(xtest) < clf.critical_value)], columns=['pred', 'true'])\n",
    "\n",
    "# Accuracy Metrics\n",
    "truth = pred_actuals.loc[:, 'true']\n",
    "pred = pred_actuals.loc[:, 'pred']\n",
    "print('\\nConfusion Matrix: \\n', confusion_matrix(truth, pred))\n",
    "print('\\nAccuracy Score: ', accuracy_score(truth, pred))\n",
    "print('\\nClassification Report: \\n', classification_report(truth, pred))"
   ]
  },
  {
   "cell_type": "markdown",
   "id": "01b5ae7d",
   "metadata": {},
   "source": [
    "#### => sans la connaissance de la classe bénigne, nous sommes en mesure de prédire avec précision la classe de 87 % des observations."
   ]
  },
  {
   "cell_type": "markdown",
   "id": "33676a71",
   "metadata": {},
   "source": []
  },
  {
   "cell_type": "code",
   "execution_count": null,
   "id": "e0bd1a88",
   "metadata": {},
   "outputs": [],
   "source": []
  }
 ],
 "metadata": {
  "kernelspec": {
   "display_name": "Python 3",
   "language": "python",
   "name": "python3"
  },
  "language_info": {
   "codemirror_mode": {
    "name": "ipython",
    "version": 3
   },
   "file_extension": ".py",
   "mimetype": "text/x-python",
   "name": "python",
   "nbconvert_exporter": "python",
   "pygments_lexer": "ipython3",
   "version": "3.8.8"
  }
 },
 "nbformat": 4,
 "nbformat_minor": 5
}
